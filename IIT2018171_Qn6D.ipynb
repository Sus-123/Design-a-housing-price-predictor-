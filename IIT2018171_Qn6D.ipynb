{
  "nbformat": 4,
  "nbformat_minor": 0,
  "metadata": {
    "colab": {
      "name": "IIT2018171_Qn6D.ipynb",
      "provenance": []
    },
    "kernelspec": {
      "name": "python3",
      "display_name": "Python 3"
    }
  },
  "cells": [
    {
      "cell_type": "code",
      "metadata": {
        "id": "wTmdWtZi0CB1",
        "colab_type": "code",
        "colab": {
          "base_uri": "https://localhost:8080/",
          "height": 295
        },
        "outputId": "1b65a206-e96a-4ae8-db0f-16b2301410ab"
      },
      "source": [
        "import numpy as np\n",
        "import pandas as pd\n",
        "import matplotlib.pyplot as plt\n",
        "\n",
        "# Fetching the data from csv\n",
        "data = pd.read_csv('Housing Price data set.csv')\n",
        "data = data.drop(['Unnamed: 0', 'driveway', 'recroom', 'stories', 'fullbase',\n",
        "                  'airco', 'prefarea', 'gashw', 'stories', 'garagepl'], axis=1)\n",
        "\n",
        "# Calculating mean and standard deviation\n",
        "mean = data.mean()[0]\n",
        "stddev = data.std()[0]\n",
        "data = (data - data.mean())/data.std()\n",
        "data = np.asarray(data)\n",
        "train_y = data[:, 0:1]\n",
        "train_x = data[:, 1:]\n",
        "identity = np.ones((len(train_x), 1))\n",
        "train_x = np.concatenate((identity, train_x), axis=1)\n",
        "# print(train_x.shape, train_y.shape)\n",
        "\n",
        "# Locally Weighted Regression with normal Equation\n",
        "\n",
        "\n",
        "def LWR(X, Y, idx, tau):\n",
        "    wi = np.exp(np.sum((X-X[idx])**2, axis=1) / (-2*tau*tau))\n",
        "    W = wi * np.identity(X.shape[0])\n",
        "    theta = np.linalg.inv(X.T@W@X)@X.T@W@Y\n",
        "    return theta\n",
        "\n",
        "\n",
        "X = []\n",
        "error = []\n",
        "for j in range(1, 25):\n",
        "    X.append(j)\n",
        "    e = 0\n",
        "    predict_y = []\n",
        "    for i in range(len(train_x)):\n",
        "        theta = LWR(train_x, train_y, i, j)\n",
        "        pred = (train_x[i]@(theta))*stddev + mean\n",
        "        actual = (train_y[i]) * stddev + mean\n",
        "        predict_y.append(pred)\n",
        "        e += abs(pred - actual) / actual\n",
        "    error.append(e / len(train_x)*100)\n",
        "\n",
        "\n",
        "plt.plot(X, error, color='r')\n",
        "plt.xlabel('Tao')\n",
        "plt.ylabel('%'+'Error')\n",
        "plt.title('tao vs error')\n",
        "plt.show()"
      ],
      "execution_count": 2,
      "outputs": [
        {
          "output_type": "display_data",
          "data": {
            "image/png": "[encoded data removed]",
            "text/plain": [
              "<Figure size 432x288 with 1 Axes>"
            ]
          },
          "metadata": {
            "tags": [],
            "needs_background": "light"
          }
        }
      ]
    }
  ]
}